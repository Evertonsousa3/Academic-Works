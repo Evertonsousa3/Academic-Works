{
  "nbformat": 4,
  "nbformat_minor": 0,
  "metadata": {
    "colab": {
      "provenance": [],
      "authorship_tag": "ABX9TyOC2gu0WkoQFScgVM8cOdRa",
      "include_colab_link": true
    },
    "kernelspec": {
      "name": "python3",
      "display_name": "Python 3"
    },
    "language_info": {
      "name": "python"
    }
  },
  "cells": [
    {
      "cell_type": "markdown",
      "metadata": {
        "id": "view-in-github",
        "colab_type": "text"
      },
      "source": [
        "<a href=\"https://colab.research.google.com/github/Evertonsousa3/Academic-Works/blob/main/Introdu%C3%A7%C3%A3o_a_Intelig%C3%AAncia_Artificial.ipynb\" target=\"_parent\"><img src=\"https://colab.research.google.com/assets/colab-badge.svg\" alt=\"Open In Colab\"/></a>"
      ]
    },
    {
      "cell_type": "markdown",
      "source": [
        "# Importações necessárias\n",
        "\n"
      ],
      "metadata": {
        "id": "7NtjAQT6SXhu"
      }
    },
    {
      "cell_type": "code",
      "execution_count": 1,
      "metadata": {
        "colab": {
          "base_uri": "https://localhost:8080/"
        },
        "id": "hduyeRyqSIAh",
        "outputId": "10e994aa-7c83-4a6a-c8d6-36c8d492bfa1"
      },
      "outputs": [
        {
          "output_type": "stream",
          "name": "stdout",
          "text": [
            "Collecting deap\n",
            "  Downloading deap-1.4.1-cp310-cp310-manylinux_2_5_x86_64.manylinux1_x86_64.manylinux_2_17_x86_64.manylinux2014_x86_64.whl (135 kB)\n",
            "\u001b[2K     \u001b[90m━━━━━━━━━━━━━━━━━━━━━━━━━━━━━━━━━━━━━━━\u001b[0m \u001b[32m135.4/135.4 kB\u001b[0m \u001b[31m1.9 MB/s\u001b[0m eta \u001b[36m0:00:00\u001b[0m\n",
            "\u001b[?25hRequirement already satisfied: numpy in /usr/local/lib/python3.10/dist-packages (from deap) (1.22.4)\n",
            "Installing collected packages: deap\n",
            "Successfully installed deap-1.4.1\n"
          ]
        }
      ],
      "source": [
        "!pip install deap"
      ]
    },
    {
      "cell_type": "code",
      "source": [
        "#Biblioteca para gerar valores aleatórios\n",
        "import random\n",
        "#Biblioteca para computação evolutiva\n",
        "from deap import algorithms, base, creator, tools\n",
        "#Biblioteca para funções matemáticas\n",
        "import math\n",
        "#Biblioteca para visualização gráfica\n",
        "import matplotlib.pyplot as plt\n",
        "#Biblioteca para operações matemáticas em matrizes\n",
        "import numpy as np"
      ],
      "metadata": {
        "id": "A0gKQv_XSeRk"
      },
      "execution_count": 8,
      "outputs": []
    },
    {
      "cell_type": "markdown",
      "source": [
        "# Função para gerar grafos aleatórios"
      ],
      "metadata": {
        "id": "L8Agg_AQT8B-"
      }
    },
    {
      "cell_type": "code",
      "source": [
        "def geraGrafo(numVertices, limiteX, limiteY):\n",
        "  vertices = []\n",
        "  for i in range(numVertices):\n",
        "    x = random.randint(limiteX[0], limiteX[1])\n",
        "    y = random.randint(limiteY[0], limiteY[1])\n",
        "    vertices.append((x, y))\n",
        "\n",
        "  arestas = []\n",
        "  for vertice1 in range(numVertices):\n",
        "    numArestas = random.randint(1, numVertices-1)\n",
        "    while True:\n",
        "      vertice2 = random.randint(0, numVertices-1)\n",
        "      if vertice1 < vertice2:\n",
        "        if (vertice1, vertice2) not in arestas:\n",
        "          arestas.append((vertice1, vertice2))\n",
        "        numArestas -= 1\n",
        "      elif vertice2 < vertice1:\n",
        "        if (vertice2, vertice1) not in arestas:\n",
        "          arestas.append((vertice2, vertice1))\n",
        "        numArestas -= 1\n",
        "      if numArestas == 0:\n",
        "        break\n",
        "\n",
        "  return vertices, arestas"
      ],
      "metadata": {
        "id": "hWrBtBUdUbwY"
      },
      "execution_count": 3,
      "outputs": []
    },
    {
      "cell_type": "markdown",
      "source": [
        "# Função para exibir o grafo"
      ],
      "metadata": {
        "id": "gvmmpGQCUn0S"
      }
    },
    {
      "cell_type": "code",
      "source": [
        "def imprimeGrafo(eixos, vertices, arestas, cobertura=None):\n",
        "  plt.axis(eixos)\n",
        "\n",
        "  for aresta in arestas:\n",
        "    vertice1 = vertices[aresta[0]]\n",
        "    vertice2 = vertices[aresta[1]]\n",
        "    plt.plot([vertice1[0], vertice2[0]], [vertice1[1], vertice2[1]],'k-')\n",
        "\n",
        "  numVertices = len(vertices)\n",
        "  for i in range(numVertices):\n",
        "    vertice = vertices[i]\n",
        "    if cobertura == None:\n",
        "      plt.plot(vertice[0], vertice[1], 'bo', markersize=8)\n",
        "    elif cobertura[i] == 0:\n",
        "      plt.plot(vertice[0], vertice[1], 'go', markersize=8)\n",
        "    else:\n",
        "      plt.plot(vertice[0], vertice[1], 'ro', markersize=12)\n",
        "\n",
        "  plt.show()"
      ],
      "metadata": {
        "id": "hwXBGQGBUwaf"
      },
      "execution_count": 4,
      "outputs": []
    },
    {
      "cell_type": "markdown",
      "source": [
        "##Têmpera Simulada"
      ],
      "metadata": {
        "id": "xFzWhzD3aweN"
      }
    },
    {
      "cell_type": "markdown",
      "source": [
        "###Função para gerar uma cobertura inicial aleatória"
      ],
      "metadata": {
        "id": "Ri95YPqUa1fX"
      }
    },
    {
      "cell_type": "code",
      "source": [
        "def cobertura_inicial(numVertices):\n",
        "  return [random.randint(0, numVertices - 1)\n",
        "  for c in range(numVertices)]"
      ],
      "metadata": {
        "id": "zksFjm_rbBHl"
      },
      "execution_count": 5,
      "outputs": []
    },
    {
      "cell_type": "markdown",
      "source": [
        "###Função para calcular o custo"
      ],
      "metadata": {
        "id": "zjnLi7DYcV3_"
      }
    },
    {
      "cell_type": "code",
      "source": [
        "def calcula_custo(cobertura, numVertices):\n",
        "  custo = 0\n",
        "  for c in range (numVertices):\n",
        "    for i in range(c+1, numVertices):\n",
        "      if cobertura[c] == cobertura[i]:\n",
        "        custo += 1\n",
        "  return custo"
      ],
      "metadata": {
        "id": "jhua3RzvcgPc"
      },
      "execution_count": 6,
      "outputs": []
    },
    {
      "cell_type": "markdown",
      "source": [
        "###Função para aplicação da tempora simulada"
      ],
      "metadata": {
        "id": "ZOUD7JDXdZSD"
      }
    },
    {
      "cell_type": "code",
      "source": [
        "def recozimento(numVertices, vertices, arestas):\n",
        "  numVertices = len(vertices)\n",
        "  temperatura_inicial = 90\n",
        "  temperatura_final = 0.1\n",
        "  melhor_custo = sum(cobertura_inicial)\n",
        "\n",
        "  cobertura_atual = cobertura_inicial(numVertices)\n",
        "\n",
        "  alpha = 0.01\n",
        "  interacoes = 0\n",
        "\n",
        "  temperatura = temperatura_inicial\n",
        "  while temperatura > temperatura_final:\n",
        "    nova_solucao = cobertura_inicial(numVertices)\n",
        "    novo_custo = melhor_custo\n",
        "    delta = novo_custo - melhor_custo\n",
        "\n",
        "    if delta > 0:\n",
        "      cobertura_atual = nova_solucao\n",
        "      melhor_custo = novo_custo\n",
        "\n",
        "    else:\n",
        "        if random.random () < math.exp(-delta/temperatura):\n",
        "          cobertura_atual = nova_solucao\n",
        "          melhor_custo = novo_custo\n",
        "\n",
        "    temperatura *= alpha\n",
        "  return cobertura_atual, melhor_custo"
      ],
      "metadata": {
        "id": "EPa2zlkgdggn"
      },
      "execution_count": 7,
      "outputs": []
    },
    {
      "cell_type": "markdown",
      "source": [
        "##Algoritmos genéticos"
      ],
      "metadata": {
        "id": "ef76e2y540Uw"
      }
    },
    {
      "cell_type": "markdown",
      "source": [
        "###Função de aptidão"
      ],
      "metadata": {
        "id": "XjciQjH547PF"
      }
    },
    {
      "cell_type": "code",
      "source": [
        "def calcula_aptidao(cobertura):\n",
        "  return len(set(cobertura)),"
      ],
      "metadata": {
        "id": "WCv5eA3L5AAC"
      },
      "execution_count": null,
      "outputs": []
    },
    {
      "cell_type": "markdown",
      "source": [
        "###Função para utilizar algoritmos genéticos"
      ],
      "metadata": {
        "id": "GGV8ZSNl5XkB"
      }
    },
    {
      "cell_type": "code",
      "source": [
        "def algoritmos_geneticos(numVertices, vertices):\n",
        "    creator.create(\"FitnessMin\", base.Fitness, weights=(-1.0,))\n",
        "    creator.create(\"Individual\", list, fitness=creator.FitnessMin)\n",
        "\n",
        "    toolbox = base.Toolbox()\n",
        "    toolbox.register(\"attr_int\", random.randint, 0, numVertices - 1)\n",
        "    toolbox.register(\"individual\", tools.initRepeat, creator.Individual, toolbox.attr_int, len(vertices))\n",
        "    toolbox.register(\"population\", tools.initRepeat, list, toolbox.individual)\n",
        "\n",
        "    toolbox.register(\"evaluate\", calcula_aptidao)\n",
        "    toolbox.register(\"mate\", tools.cxTwoPoint)\n",
        "    toolbox.register(\"mutate\", tools.mutFlipBit, indpb=0.05)\n",
        "    toolbox.register(\"select\", tools.selTournament, tournsize=3)\n",
        "\n",
        "    numero_geracoes = 100 #proposto no vertex_cover\n",
        "    tamanho_populacao = 100 #proposto no vertex_cover\n"
      ],
      "metadata": {
        "id": "cEr8Xisd5iyM"
      },
      "execution_count": null,
      "outputs": []
    }
  ]
}