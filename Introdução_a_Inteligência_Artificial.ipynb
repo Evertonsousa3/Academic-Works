{
  "nbformat": 4,
  "nbformat_minor": 0,
  "metadata": {
    "colab": {
      "provenance": [],
      "authorship_tag": "ABX9TyMPwoCRXzkJPyScoZ3J2Vrt",
      "include_colab_link": true
    },
    "kernelspec": {
      "name": "python3",
      "display_name": "Python 3"
    },
    "language_info": {
      "name": "python"
    }
  },
  "cells": [
    {
      "cell_type": "markdown",
      "metadata": {
        "id": "view-in-github",
        "colab_type": "text"
      },
      "source": [
        "<a href=\"https://colab.research.google.com/github/Evertonsousa3/Academic-Works/blob/main/Introdu%C3%A7%C3%A3o_a_Intelig%C3%AAncia_Artificial.ipynb\" target=\"_parent\"><img src=\"https://colab.research.google.com/assets/colab-badge.svg\" alt=\"Open In Colab\"/></a>"
      ]
    },
    {
      "cell_type": "markdown",
      "source": [
        "# Importações necessárias\n",
        "\n"
      ],
      "metadata": {
        "id": "7NtjAQT6SXhu"
      }
    },
    {
      "cell_type": "code",
      "execution_count": 1,
      "metadata": {
        "colab": {
          "base_uri": "https://localhost:8080/"
        },
        "id": "hduyeRyqSIAh",
        "outputId": "10e994aa-7c83-4a6a-c8d6-36c8d492bfa1"
      },
      "outputs": [
        {
          "output_type": "stream",
          "name": "stdout",
          "text": [
            "Collecting deap\n",
            "  Downloading deap-1.4.1-cp310-cp310-manylinux_2_5_x86_64.manylinux1_x86_64.manylinux_2_17_x86_64.manylinux2014_x86_64.whl (135 kB)\n",
            "\u001b[2K     \u001b[90m━━━━━━━━━━━━━━━━━━━━━━━━━━━━━━━━━━━━━━━\u001b[0m \u001b[32m135.4/135.4 kB\u001b[0m \u001b[31m1.9 MB/s\u001b[0m eta \u001b[36m0:00:00\u001b[0m\n",
            "\u001b[?25hRequirement already satisfied: numpy in /usr/local/lib/python3.10/dist-packages (from deap) (1.22.4)\n",
            "Installing collected packages: deap\n",
            "Successfully installed deap-1.4.1\n"
          ]
        }
      ],
      "source": [
        "!pip install deap"
      ]
    },
    {
      "cell_type": "code",
      "source": [
        "import random\n",
        "import deap\n",
        "import math\n",
        "import matplotlib.pyplot as plt\n",
        "import numpy as np"
      ],
      "metadata": {
        "id": "A0gKQv_XSeRk"
      },
      "execution_count": null,
      "outputs": []
    },
    {
      "cell_type": "markdown",
      "source": [
        "# Função para gerar grafos aleatórios"
      ],
      "metadata": {
        "id": "L8Agg_AQT8B-"
      }
    },
    {
      "cell_type": "code",
      "source": [
        "def geraGrafo(numVertices, limiteX, limiteY):\n",
        "  vertices = []\n",
        "  for i in range(numVertices):\n",
        "    x = random.randint(limiteX[0], limiteX[1])\n",
        "    y = random.randint(limiteY[0], limiteY[1])\n",
        "    vertices.append((x, y))\n",
        "\n",
        "  arestas = []\n",
        "  for vertice1 in range(numVertices):\n",
        "    numArestas = random.randint(1, numVertices-1)\n",
        "    while True:\n",
        "      vertice2 = random.randint(0, numVertices-1)\n",
        "      if vertice1 < vertice2:\n",
        "        if (vertice1, vertice2) not in arestas:\n",
        "          arestas.append((vertice1, vertice2))\n",
        "        numArestas -= 1\n",
        "      elif vertice2 < vertice1:\n",
        "        if (vertice2, vertice1) not in arestas:\n",
        "          arestas.append((vertice2, vertice1))\n",
        "        numArestas -= 1\n",
        "      if numArestas == 0:\n",
        "        break\n",
        "\n",
        "  return vertices, arestas"
      ],
      "metadata": {
        "id": "hWrBtBUdUbwY"
      },
      "execution_count": null,
      "outputs": []
    },
    {
      "cell_type": "markdown",
      "source": [
        "# Função para exibir o grafo"
      ],
      "metadata": {
        "id": "gvmmpGQCUn0S"
      }
    },
    {
      "cell_type": "code",
      "source": [
        "def imprimeGrafo(eixos, vertices, arestas, cobertura=None):\n",
        "  plt.axis(eixos)\n",
        "\n",
        "  for aresta in arestas:\n",
        "    vertice1 = vertices[aresta[0]]\n",
        "    vertice2 = vertices[aresta[1]]\n",
        "    plt.plot([vertice1[0], vertice2[0]], [vertice1[1], vertice2[1]],'k-')\n",
        "\n",
        "  numVertices = len(vertices)\n",
        "  for i in range(numVertices):\n",
        "    vertice = vertices[i]\n",
        "    if cobertura == None:\n",
        "      plt.plot(vertice[0], vertice[1], 'bo', markersize=8)\n",
        "    elif cobertura[i] == 0:\n",
        "      plt.plot(vertice[0], vertice[1], 'go', markersize=8)\n",
        "    else:\n",
        "      plt.plot(vertice[0], vertice[1], 'ro', markersize=12)\n",
        "\n",
        "  plt.show()"
      ],
      "metadata": {
        "id": "hwXBGQGBUwaf"
      },
      "execution_count": null,
      "outputs": []
    }
  ]
}